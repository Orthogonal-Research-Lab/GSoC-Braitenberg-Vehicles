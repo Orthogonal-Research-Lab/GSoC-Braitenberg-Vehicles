{
 "cells": [
  {
   "cell_type": "markdown",
   "metadata": {},
   "source": [
    "### Krangl/Kravis tryouts"
   ]
  },
  {
   "cell_type": "code",
   "execution_count": 1,
   "metadata": {},
   "outputs": [
    {
     "name": "stderr",
     "output_type": "stream",
     "text": [
      "error: unresolved reference: kravis\r\n",
      "import kravis.*\r\n",
      "       ^\r\n"
     ]
    }
   ],
   "source": [
    "//import krangl.*\n",
    "import kravis.*\n",
    "\n",
    "fun fibonacci(n:Int):Int {\n",
    "    if (n == 1 || n ==2 ) return 1\n",
    "    else return fibonacci(n-1) + fibonacci(n-2)\n",
    "}\n",
    "\n",
    "val intervals = 1..50 step 10\n",
    "intervals"
   ]
  },
  {
   "cell_type": "code",
   "execution_count": null,
   "metadata": {},
   "outputs": [],
   "source": []
  }
 ],
 "metadata": {
  "kernelspec": {
   "display_name": "Kotlin",
   "language": "kotlin",
   "name": "kotlin"
  },
  "language_info": {
   "file_extension": "kt",
   "name": "kotlin"
  }
 },
 "nbformat": 4,
 "nbformat_minor": 2
}
