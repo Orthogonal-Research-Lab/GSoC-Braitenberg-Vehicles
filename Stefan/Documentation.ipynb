{
 "cells": [
  {
   "cell_type": "markdown",
   "metadata": {},
   "source": [
    "## BraBrain simulation documentation"
   ]
  },
  {
   "cell_type": "markdown",
   "metadata": {},
   "source": [
    "This is the main documentation for the BraBrain simulation suite.\n",
    "The simulation handles development of \"brains\" represented by weighted feedforward neural networks by agent-based models, and epoch-based genetic algorithm, overall resembling _swarm-based_ optimization methods."
   ]
  },
  {
   "cell_type": "markdown",
   "metadata": {},
   "source": [
    "## GUI"
   ]
  },
  {
   "cell_type": "markdown",
   "metadata": {},
   "source": [
    "The main point of application functionality is **guided user interface** represented by a JavaFX `jar`, which can be found in `build/libs`."
   ]
  },
  {
   "cell_type": "markdown",
   "metadata": {},
   "source": [
    "### Configuration screen"
   ]
  },
  {
   "cell_type": "markdown",
   "metadata": {},
   "source": [
    "On the jar startup, one automatically ends up in the configuration screen.\n",
    "![config screen](doc/img/config_screen.png)\n",
    "In the configuration screen, one can select parameters for the upcoming run."
   ]
  },
  {
   "cell_type": "markdown",
   "metadata": {},
   "source": [
    "_Technical details_: configuration is taken and stored in `.properties` file in `conf` directory, which is provided by `TornadoFX` config abilities. There are also some defaults declared in `src\\main\\kotlin\\config\\SimConfigItem.kt`."
   ]
  },
  {
   "cell_type": "markdown",
   "metadata": {},
   "source": [
    "Once the setup is done, click on \"Start simulation\" starts simulation run."
   ]
  },
  {
   "cell_type": "markdown",
   "metadata": {},
   "source": [
    "### Simulation screen"
   ]
  },
  {
   "cell_type": "markdown",
   "metadata": {},
   "source": [
    "On the simulation screen, Genetic Algorithm process is represented visually. \n",
    "![simulation screen](doc/img/simulation_screen.png)"
   ]
  },
  {
   "cell_type": "markdown",
   "metadata": {},
   "source": [
    "_Technical details_: The simulation algorithm is started as a `Model`, following `TornadoFX`-proponed MVP convention:"
   ]
  },
  {
   "cell_type": "raw",
   "metadata": {},
   "source": [
    "presenter.startSimulation(model)\n",
    "\n",
    "fun startSimulation(conf: SimConfigItem) {\n",
    "        this.conf = conf\n",
    "        interval = ceil(1000F / conf.fps.value.toDouble()).toInt()\n",
    "        model =\n",
    "            SimModel.instance(\n",
    "                conf.worldWidth.value.toDouble(),\n",
    "                conf.worldHeight.value.toDouble(),\n",
    "                effectMin = conf.minObjectEffect.value.toDouble(),\n",
    "                effectMax = conf.maxObjectEffect.value.toDouble(),\n",
    "                worldObjectCount = conf.objectCount.value.toInt(),\n",
    "                startingVehicles = conf.startingAgents.value.toInt(),\n",
    "                vehicleLength = conf.vehicleLength.value.toDouble(),\n",
    "                vehicleHeight = conf.vehicleWidth.value.toDouble(),\n",
    "                sensorsDistance = conf.sensorsDistance.value.toDouble(),\n",
    "                brainSize = conf.brainSize.value.toInt(),\n",
    "                rateLuckySelected = conf.rateLuckySelected.value.toDouble(),\n",
    "                rateEliteSelected = conf.rateEliteSelected.value.toDouble(),\n",
    "                matingRate = conf.matingRate.value.toDouble(),\n",
    "                mutationRate = conf.mutationRate.value.toDouble(),\n",
    "                presenter = this\n",
    "            )\n",
    "        view = find(view.SimView::class)\n",
    "        configView.replaceWith(SimView::class)\n",
    "        ...\n",
    "        fire(UpdateRenderEvent()) //tells view to render model\n",
    "}"
   ]
  },
  {
   "cell_type": "markdown",
   "metadata": {},
   "source": [
    "There is also the possibility of building separate-window plots, which can be updated in the real-time, that show current simulation status. For example, this plot shows speeds components scatter:"
   ]
  },
  {
   "cell_type": "markdown",
   "metadata": {},
   "source": [
    "![speeds scatter](doc\\img\\speeds_scatter.png)"
   ]
  },
  {
   "cell_type": "markdown",
   "metadata": {},
   "source": [
    "While in simulation window, the button with *exclamation mark* shows simulation information, and clicking on a vehicle opens its information popup."
   ]
  },
  {
   "cell_type": "markdown",
   "metadata": {},
   "source": [
    "### Running genetic algorithm"
   ]
  },
  {
   "cell_type": "markdown",
   "metadata": {},
   "source": [
    "GA progress is controlled by keyboard. Press `Right arrow` to proceed to the next epoch."
   ]
  },
  {
   "cell_type": "markdown",
   "metadata": {},
   "source": [
    "_Technical info_: GA calculation is done in the background, on a separate non-visualization thread."
   ]
  }
 ],
 "metadata": {
  "kernelspec": {
   "display_name": "Kotlin",
   "language": "kotlin",
   "name": "kotlin"
  },
  "language_info": {
   "file_extension": "kt",
   "name": "kotlin"
  }
 },
 "nbformat": 4,
 "nbformat_minor": 2
}
